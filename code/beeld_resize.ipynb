{
 "cells": [
  {
   "cell_type": "code",
   "execution_count": 43,
   "metadata": {},
   "outputs": [],
   "source": [
    "#basis\n",
    "import pandas as pd\n",
    "import tensorflow as ts\n",
    "import numpy as np\n",
    "\n",
    "#modeling\n",
    "import cv2\n",
    "\n",
    "#directory management\n",
    "import os"
   ]
  },
  {
   "cell_type": "code",
   "execution_count": 44,
   "metadata": {},
   "outputs": [],
   "source": [
    "beeld_locatie = 'vizoo_images/22V_5XP10_T15_filtered'\n",
    "nieuwe_beeld_locatie = 'vizoo_images/22V_5XP10_T15_filtered_downresized'"
   ]
  },
  {
   "cell_type": "code",
   "execution_count": 45,
   "metadata": {},
   "outputs": [],
   "source": [
    "try:\n",
    "    os.mkdir(nieuwe_beeld_locatie) # maak folder\n",
    "except OSError as error:\n",
    "    print(error) # error output"
   ]
  },
  {
   "cell_type": "markdown",
   "metadata": {},
   "source": [
    "## Laad de beelden"
   ]
  },
  {
   "cell_type": "code",
   "execution_count": 46,
   "metadata": {},
   "outputs": [],
   "source": [
    "beeld_data = os.listdir(beeld_locatie)"
   ]
  },
  {
   "cell_type": "markdown",
   "metadata": {},
   "source": [
    "## Beeld resizen "
   ]
  },
  {
   "cell_type": "code",
   "execution_count": 74,
   "metadata": {},
   "outputs": [],
   "source": [
    "# procent waarmee de afbeelding wordt verkleind\n",
    "scale_procent = 75"
   ]
  },
  {
   "cell_type": "code",
   "execution_count": 75,
   "metadata": {
    "scrolled": false
   },
   "outputs": [],
   "source": [
    "for beeld in beeld_data:\n",
    "   \n",
    "    img_path = os.path.join(os.path.join(beeld_locatie), beeld) # huidige beeldpad maken \n",
    "    \n",
    "    img = cv2.imread(img_path) # laad het beeld met cv2.imread\n",
    "    \n",
    "    # test size\n",
    "    breedte = int(img.shape[1] * scale_procent / 100)\n",
    "    hoogte = int(img.shape[0] * scale_procent /100)\n",
    "    \n",
    "    n_size = (breedte, hoogte)\n",
    "    \n",
    "    res = cv2.resize(img, dsize=n_size, interpolation=cv2.INTER_CUBIC) # geef het nieuwe dimensies/resoluties\n",
    "    \n",
    "    full_path = os.path.join(nieuwe_beeld_locatie, beeld)\n",
    "    \n",
    "    cv2.imwrite(full_path, res)"
   ]
  },
  {
   "cell_type": "code",
   "execution_count": 48,
   "metadata": {},
   "outputs": [],
   "source": [
    "nieuw_beeld_data = os.listdir(nieuwe_beeld_locatie)"
   ]
  },
  {
   "cell_type": "markdown",
   "metadata": {},
   "source": [
    "## Beeld 90 graden rechtsom draaien (duplicatie)"
   ]
  },
  {
   "cell_type": "code",
   "execution_count": 51,
   "metadata": {},
   "outputs": [],
   "source": [
    "for beeld in nieuw_beeld_data:\n",
    "    \n",
    "    img_path = os.path.join(os.path.join(nieuwe_beeld_locatie), beeld) # huidige beeldpad maken \n",
    "    \n",
    "    img = cv2.imread(img_path) # laad het beeld met cv2.imread\n",
    "    \n",
    "    res = cv2.rotate(img, cv2.ROTATE_90_CLOCKWISE) # geef het nieuwe dimensies/resoluties\n",
    "    \n",
    "    full_path = os.path.join(nieuwe_beeld_locatie, '90clockwise_' + beeld)\n",
    "    \n",
    "    cv2.imwrite(full_path, res)"
   ]
  }
 ],
 "metadata": {
  "kernelspec": {
   "display_name": "Python 3 (ipykernel)",
   "language": "python",
   "name": "python3"
  },
  "language_info": {
   "codemirror_mode": {
    "name": "ipython",
    "version": 3
   },
   "file_extension": ".py",
   "mimetype": "text/x-python",
   "name": "python",
   "nbconvert_exporter": "python",
   "pygments_lexer": "ipython3",
   "version": "3.10.5"
  }
 },
 "nbformat": 4,
 "nbformat_minor": 1
}
